{
 "cells": [
  {
   "cell_type": "code",
   "execution_count": null,
   "metadata": {},
   "outputs": [
    {
     "name": "stdout",
     "output_type": "stream",
     "text": [
      "Server:  Requested accepted now you can talk\n",
      "Client: hello\n",
      "Server:  how are you\n",
      "Client: hi\n",
      "Server:  hello\n",
      "Client: how are you \n"
     ]
    }
   ],
   "source": [
    "#Client\n",
    "import socket\n",
    "\n",
    "client = socket.socket(socket.AF_INET,socket.SOCK_STREAM)\n",
    "host = socket.gethostname()\n",
    "port = 1234\n",
    "\n",
    "client.connect((host,port))\n",
    "\n",
    "while True:\n",
    "    msg = client.recv(1024)\n",
    "    msg = msg.decode()\n",
    "    print(\"Server: \",msg)\n",
    "    if msg == 'bye':\n",
    "        break\n",
    "    msg = input(\"Client: \")\n",
    "    client.send(msg.encode())\n",
    "    \n",
    "client.close()"
   ]
  },
  {
   "cell_type": "code",
   "execution_count": null,
   "metadata": {},
   "outputs": [],
   "source": []
  }
 ],
 "metadata": {
  "kernelspec": {
   "display_name": "Python 3",
   "language": "python",
   "name": "python3"
  },
  "language_info": {
   "codemirror_mode": {
    "name": "ipython",
    "version": 3
   },
   "file_extension": ".py",
   "mimetype": "text/x-python",
   "name": "python",
   "nbconvert_exporter": "python",
   "pygments_lexer": "ipython3",
   "version": "3.7.3"
  }
 },
 "nbformat": 4,
 "nbformat_minor": 4
}
