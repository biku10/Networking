{
 "cells": [
  {
   "cell_type": "code",
   "execution_count": null,
   "metadata": {},
   "outputs": [
    {
     "name": "stdout",
     "output_type": "stream",
     "text": [
      "Waiting for connection\n",
      "Connection request from 192.168.1.5 is accepted\n",
      "Client:  time\n",
      "Client:  TIME\n",
      "Client:  time\n",
      "Client:  TIME\n"
     ]
    }
   ],
   "source": [
    "import pandas as pd\n",
    "\n",
    "import datetime\n",
    "\n",
    "import numpy as np\n",
    "\n",
    "import socket\n",
    "\n",
    "server = socket.socket(socket.AF_INET,socket.SOCK_STREAM)\n",
    "\n",
    "host = socket.gethostname()\n",
    "\n",
    "port = 9999\n",
    "\n",
    "server.bind((host,port))\n",
    "\n",
    "server.listen(5)\n",
    "\n",
    "print(\"Waiting for connection\")\n",
    "\n",
    "conn,addr = server.accept()\n",
    "\n",
    "print(\"Connection request from {} is accepted\".format(addr[0]))\n",
    "\n",
    "conn.send(\"Connected to server and now you can talk\".encode())\n",
    "\n",
    "\n",
    "while True:\n",
    "    msg = conn.recv(1024)\n",
    "    msg = msg.decode()\n",
    "    print(\"Client: \",msg)\n",
    "    p = str(datetime.datetime.now())\n",
    "    if msg == 'TIME' or msg == 'time':\n",
    "        conn.send(p.encode())"
   ]
  },
  {
   "cell_type": "code",
   "execution_count": null,
   "metadata": {},
   "outputs": [],
   "source": []
  }
 ],
 "metadata": {
  "kernelspec": {
   "display_name": "Python 3",
   "language": "python",
   "name": "python3"
  },
  "language_info": {
   "codemirror_mode": {
    "name": "ipython",
    "version": 3
   },
   "file_extension": ".py",
   "mimetype": "text/x-python",
   "name": "python",
   "nbconvert_exporter": "python",
   "pygments_lexer": "ipython3",
   "version": "3.7.3"
  }
 },
 "nbformat": 4,
 "nbformat_minor": 2
}
