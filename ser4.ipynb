{
 "cells": [
  {
   "cell_type": "code",
   "execution_count": null,
   "metadata": {},
   "outputs": [
    {
     "name": "stdout",
     "output_type": "stream",
     "text": [
      "Waiting for connection\n",
      "Recieved Connection request from client\n",
      "Client:  Hello\n",
      "Server: Bikrant Sen\n",
      "Client:  RA1811027010045\n"
     ]
    }
   ],
   "source": [
    "#Server\n",
    "\n",
    "import socket\n",
    "\n",
    "server = socket.socket(socket.AF_INET,socket.SOCK_STREAM)\n",
    "\n",
    "host = socket.gethostname()\n",
    "\n",
    "port = 1234\n",
    "\n",
    "server.bind((host,port))\n",
    "\n",
    "server.listen(5)\n",
    "\n",
    "print('Waiting for connection')\n",
    "\n",
    "\n",
    "conn,addr = server.accept()\n",
    "\n",
    "print(\"Recieved Connection request from client\",)\n",
    "\n",
    "conn.send(\"Request is accepted\".encode())\n",
    "\n",
    "while True:\n",
    "    msg = conn.recv(1024)\n",
    "    msg = msg.decode()\n",
    "    print(\"Client: \",msg)\n",
    "    if msg == 'bye':\n",
    "        break\n",
    "    msg = input(\"Server: \")\n",
    "    conn.send(msg.encode())\n",
    "\n",
    "conn.close()"
   ]
  },
  {
   "cell_type": "code",
   "execution_count": null,
   "metadata": {},
   "outputs": [],
   "source": []
  }
 ],
 "metadata": {
  "kernelspec": {
   "display_name": "Python 3",
   "language": "python",
   "name": "python3"
  },
  "language_info": {
   "codemirror_mode": {
    "name": "ipython",
    "version": 3
   },
   "file_extension": ".py",
   "mimetype": "text/x-python",
   "name": "python",
   "nbconvert_exporter": "python",
   "pygments_lexer": "ipython3",
   "version": "3.7.3"
  }
 },
 "nbformat": 4,
 "nbformat_minor": 4
}
