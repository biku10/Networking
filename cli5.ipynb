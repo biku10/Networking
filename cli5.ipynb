{
 "cells": [
  {
   "cell_type": "code",
   "execution_count": null,
   "metadata": {},
   "outputs": [
    {
     "name": "stdout",
     "output_type": "stream",
     "text": [
      "Server:  Connected to server and now you can talk\n",
      "Client: time\n",
      "Server:  2020-09-10 14:29:04.543947\n",
      "Client: TIME\n",
      "Server:  2020-09-10 14:29:24.300304\n",
      "Client: time\n",
      "Server:  2020-09-10 14:30:42.363566\n",
      "Client: TIME\n",
      "Server:  2020-09-10 14:30:44.646389\n"
     ]
    }
   ],
   "source": [
    "import socket\n",
    "\n",
    "client = socket.socket(socket.AF_INET,socket.SOCK_STREAM)\n",
    "host = socket.gethostname()\n",
    "port = 9999\n",
    "\n",
    "client.connect((host,port))\n",
    "\n",
    "while True:\n",
    "    msg = client.recv(1024)\n",
    "    msg = msg.decode()\n",
    "    print(\"Server: \",msg)\n",
    "    if msg == 'bye':\n",
    "        break\n",
    "    msg = input(\"Client: \")\n",
    "    client.send(msg.encode())\n",
    "    \n",
    "client.close()"
   ]
  },
  {
   "cell_type": "code",
   "execution_count": null,
   "metadata": {},
   "outputs": [],
   "source": []
  }
 ],
 "metadata": {
  "kernelspec": {
   "display_name": "Python 3",
   "language": "python",
   "name": "python3"
  },
  "language_info": {
   "codemirror_mode": {
    "name": "ipython",
    "version": 3
   },
   "file_extension": ".py",
   "mimetype": "text/x-python",
   "name": "python",
   "nbconvert_exporter": "python",
   "pygments_lexer": "ipython3",
   "version": "3.7.3"
  }
 },
 "nbformat": 4,
 "nbformat_minor": 2
}
